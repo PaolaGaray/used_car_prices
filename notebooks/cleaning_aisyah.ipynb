{
 "cells": [
  {
   "cell_type": "code",
   "execution_count": 76,
   "id": "4125da0a-d704-483a-8218-39ac336b76cf",
   "metadata": {},
   "outputs": [],
   "source": [
    "import pandas as pd\n",
    "import numpy as np\n",
    "import seaborn as sns\n",
    "from sklearn.linear_model import LinearRegression\n",
    "from sklearn.metrics import r2_score, mean_absolute_error, mean_squared_error\n",
    "\n",
    "test = \"../data/raw/test.csv\"\n",
    "train = \"../data/raw/train.csv\"\n",
    "sample_submission = \"../data/raw/sample_submission.csv\"\n",
    "\n",
    "test = pd.read_csv(test)\n",
    "train = pd.read_csv(train)\n",
    "sample_submission = pd.read_csv(sample_submission)"
   ]
  },
  {
   "cell_type": "markdown",
   "id": "a781097e-b1d2-44db-8962-121aeafaa1a9",
   "metadata": {},
   "source": [
    "### Understanding the Data"
   ]
  },
  {
   "cell_type": "code",
   "execution_count": 70,
   "id": "de981db9-54bc-407f-90fc-8c64a7d5557b",
   "metadata": {},
   "outputs": [
    {
     "data": {
      "text/html": [
       "<div>\n",
       "<style scoped>\n",
       "    .dataframe tbody tr th:only-of-type {\n",
       "        vertical-align: middle;\n",
       "    }\n",
       "\n",
       "    .dataframe tbody tr th {\n",
       "        vertical-align: top;\n",
       "    }\n",
       "\n",
       "    .dataframe thead th {\n",
       "        text-align: right;\n",
       "    }\n",
       "</style>\n",
       "<table border=\"1\" class=\"dataframe\">\n",
       "  <thead>\n",
       "    <tr style=\"text-align: right;\">\n",
       "      <th></th>\n",
       "      <th>id</th>\n",
       "      <th>brand</th>\n",
       "      <th>model</th>\n",
       "      <th>model_year</th>\n",
       "      <th>milage</th>\n",
       "      <th>fuel_type</th>\n",
       "      <th>engine</th>\n",
       "      <th>transmission</th>\n",
       "      <th>ext_col</th>\n",
       "      <th>int_col</th>\n",
       "      <th>accident</th>\n",
       "      <th>clean_title</th>\n",
       "      <th>price</th>\n",
       "    </tr>\n",
       "  </thead>\n",
       "  <tbody>\n",
       "    <tr>\n",
       "      <th>0</th>\n",
       "      <td>0</td>\n",
       "      <td>MINI</td>\n",
       "      <td>Cooper S Base</td>\n",
       "      <td>2007</td>\n",
       "      <td>213000</td>\n",
       "      <td>Gasoline</td>\n",
       "      <td>172.0HP 1.6L 4 Cylinder Engine Gasoline Fuel</td>\n",
       "      <td>A/T</td>\n",
       "      <td>Yellow</td>\n",
       "      <td>Gray</td>\n",
       "      <td>None reported</td>\n",
       "      <td>Yes</td>\n",
       "      <td>4200</td>\n",
       "    </tr>\n",
       "    <tr>\n",
       "      <th>1</th>\n",
       "      <td>1</td>\n",
       "      <td>Lincoln</td>\n",
       "      <td>LS V8</td>\n",
       "      <td>2002</td>\n",
       "      <td>143250</td>\n",
       "      <td>Gasoline</td>\n",
       "      <td>252.0HP 3.9L 8 Cylinder Engine Gasoline Fuel</td>\n",
       "      <td>A/T</td>\n",
       "      <td>Silver</td>\n",
       "      <td>Beige</td>\n",
       "      <td>At least 1 accident or damage reported</td>\n",
       "      <td>Yes</td>\n",
       "      <td>4999</td>\n",
       "    </tr>\n",
       "    <tr>\n",
       "      <th>2</th>\n",
       "      <td>2</td>\n",
       "      <td>Chevrolet</td>\n",
       "      <td>Silverado 2500 LT</td>\n",
       "      <td>2002</td>\n",
       "      <td>136731</td>\n",
       "      <td>E85 Flex Fuel</td>\n",
       "      <td>320.0HP 5.3L 8 Cylinder Engine Flex Fuel Capab...</td>\n",
       "      <td>A/T</td>\n",
       "      <td>Blue</td>\n",
       "      <td>Gray</td>\n",
       "      <td>None reported</td>\n",
       "      <td>Yes</td>\n",
       "      <td>13900</td>\n",
       "    </tr>\n",
       "    <tr>\n",
       "      <th>3</th>\n",
       "      <td>3</td>\n",
       "      <td>Genesis</td>\n",
       "      <td>G90 5.0 Ultimate</td>\n",
       "      <td>2017</td>\n",
       "      <td>19500</td>\n",
       "      <td>Gasoline</td>\n",
       "      <td>420.0HP 5.0L 8 Cylinder Engine Gasoline Fuel</td>\n",
       "      <td>Transmission w/Dual Shift Mode</td>\n",
       "      <td>Black</td>\n",
       "      <td>Black</td>\n",
       "      <td>None reported</td>\n",
       "      <td>Yes</td>\n",
       "      <td>45000</td>\n",
       "    </tr>\n",
       "    <tr>\n",
       "      <th>4</th>\n",
       "      <td>4</td>\n",
       "      <td>Mercedes-Benz</td>\n",
       "      <td>Metris Base</td>\n",
       "      <td>2021</td>\n",
       "      <td>7388</td>\n",
       "      <td>Gasoline</td>\n",
       "      <td>208.0HP 2.0L 4 Cylinder Engine Gasoline Fuel</td>\n",
       "      <td>7-Speed A/T</td>\n",
       "      <td>Black</td>\n",
       "      <td>Beige</td>\n",
       "      <td>None reported</td>\n",
       "      <td>Yes</td>\n",
       "      <td>97500</td>\n",
       "    </tr>\n",
       "  </tbody>\n",
       "</table>\n",
       "</div>"
      ],
      "text/plain": [
       "   id          brand              model  model_year  milage      fuel_type  \\\n",
       "0   0           MINI      Cooper S Base        2007  213000       Gasoline   \n",
       "1   1        Lincoln              LS V8        2002  143250       Gasoline   \n",
       "2   2      Chevrolet  Silverado 2500 LT        2002  136731  E85 Flex Fuel   \n",
       "3   3        Genesis   G90 5.0 Ultimate        2017   19500       Gasoline   \n",
       "4   4  Mercedes-Benz        Metris Base        2021    7388       Gasoline   \n",
       "\n",
       "                                              engine  \\\n",
       "0       172.0HP 1.6L 4 Cylinder Engine Gasoline Fuel   \n",
       "1       252.0HP 3.9L 8 Cylinder Engine Gasoline Fuel   \n",
       "2  320.0HP 5.3L 8 Cylinder Engine Flex Fuel Capab...   \n",
       "3       420.0HP 5.0L 8 Cylinder Engine Gasoline Fuel   \n",
       "4       208.0HP 2.0L 4 Cylinder Engine Gasoline Fuel   \n",
       "\n",
       "                     transmission ext_col int_col  \\\n",
       "0                             A/T  Yellow    Gray   \n",
       "1                             A/T  Silver   Beige   \n",
       "2                             A/T    Blue    Gray   \n",
       "3  Transmission w/Dual Shift Mode   Black   Black   \n",
       "4                     7-Speed A/T   Black   Beige   \n",
       "\n",
       "                                 accident clean_title  price  \n",
       "0                           None reported         Yes   4200  \n",
       "1  At least 1 accident or damage reported         Yes   4999  \n",
       "2                           None reported         Yes  13900  \n",
       "3                           None reported         Yes  45000  \n",
       "4                           None reported         Yes  97500  "
      ]
     },
     "execution_count": 70,
     "metadata": {},
     "output_type": "execute_result"
    }
   ],
   "source": [
    "train.head()"
   ]
  },
  {
   "cell_type": "code",
   "execution_count": 31,
   "id": "04273d4b-450e-4ae2-aeb9-f859b7cef23d",
   "metadata": {},
   "outputs": [
    {
     "data": {
      "text/plain": [
       "['id', 'model_year', 'milage', 'price']"
      ]
     },
     "execution_count": 31,
     "metadata": {},
     "output_type": "execute_result"
    }
   ],
   "source": [
    "list(train.select_dtypes(\"number\"))"
   ]
  },
  {
   "cell_type": "code",
   "execution_count": 22,
   "id": "e85b375d-624d-4633-9680-8c75576af757",
   "metadata": {},
   "outputs": [
    {
     "data": {
      "text/html": [
       "<div>\n",
       "<style scoped>\n",
       "    .dataframe tbody tr th:only-of-type {\n",
       "        vertical-align: middle;\n",
       "    }\n",
       "\n",
       "    .dataframe tbody tr th {\n",
       "        vertical-align: top;\n",
       "    }\n",
       "\n",
       "    .dataframe thead th {\n",
       "        text-align: right;\n",
       "    }\n",
       "</style>\n",
       "<table border=\"1\" class=\"dataframe\">\n",
       "  <thead>\n",
       "    <tr style=\"text-align: right;\">\n",
       "      <th></th>\n",
       "      <th>id</th>\n",
       "      <th>model_year</th>\n",
       "      <th>milage</th>\n",
       "      <th>price</th>\n",
       "    </tr>\n",
       "  </thead>\n",
       "  <tbody>\n",
       "    <tr>\n",
       "      <th>count</th>\n",
       "      <td>188533.000000</td>\n",
       "      <td>188533.000000</td>\n",
       "      <td>188533.000000</td>\n",
       "      <td>1.885330e+05</td>\n",
       "    </tr>\n",
       "    <tr>\n",
       "      <th>mean</th>\n",
       "      <td>94266.000000</td>\n",
       "      <td>2015.829998</td>\n",
       "      <td>65705.295174</td>\n",
       "      <td>4.387802e+04</td>\n",
       "    </tr>\n",
       "    <tr>\n",
       "      <th>std</th>\n",
       "      <td>54424.933488</td>\n",
       "      <td>5.660967</td>\n",
       "      <td>49798.158076</td>\n",
       "      <td>7.881952e+04</td>\n",
       "    </tr>\n",
       "    <tr>\n",
       "      <th>min</th>\n",
       "      <td>0.000000</td>\n",
       "      <td>1974.000000</td>\n",
       "      <td>100.000000</td>\n",
       "      <td>2.000000e+03</td>\n",
       "    </tr>\n",
       "    <tr>\n",
       "      <th>25%</th>\n",
       "      <td>47133.000000</td>\n",
       "      <td>2013.000000</td>\n",
       "      <td>24115.000000</td>\n",
       "      <td>1.700000e+04</td>\n",
       "    </tr>\n",
       "    <tr>\n",
       "      <th>50%</th>\n",
       "      <td>94266.000000</td>\n",
       "      <td>2017.000000</td>\n",
       "      <td>57785.000000</td>\n",
       "      <td>3.082500e+04</td>\n",
       "    </tr>\n",
       "    <tr>\n",
       "      <th>75%</th>\n",
       "      <td>141399.000000</td>\n",
       "      <td>2020.000000</td>\n",
       "      <td>95400.000000</td>\n",
       "      <td>4.990000e+04</td>\n",
       "    </tr>\n",
       "    <tr>\n",
       "      <th>max</th>\n",
       "      <td>188532.000000</td>\n",
       "      <td>2024.000000</td>\n",
       "      <td>405000.000000</td>\n",
       "      <td>2.954083e+06</td>\n",
       "    </tr>\n",
       "  </tbody>\n",
       "</table>\n",
       "</div>"
      ],
      "text/plain": [
       "                  id     model_year         milage         price\n",
       "count  188533.000000  188533.000000  188533.000000  1.885330e+05\n",
       "mean    94266.000000    2015.829998   65705.295174  4.387802e+04\n",
       "std     54424.933488       5.660967   49798.158076  7.881952e+04\n",
       "min         0.000000    1974.000000     100.000000  2.000000e+03\n",
       "25%     47133.000000    2013.000000   24115.000000  1.700000e+04\n",
       "50%     94266.000000    2017.000000   57785.000000  3.082500e+04\n",
       "75%    141399.000000    2020.000000   95400.000000  4.990000e+04\n",
       "max    188532.000000    2024.000000  405000.000000  2.954083e+06"
      ]
     },
     "execution_count": 22,
     "metadata": {},
     "output_type": "execute_result"
    }
   ],
   "source": [
    "train.select_dtypes(\"number\").describe()"
   ]
  },
  {
   "cell_type": "code",
   "execution_count": 21,
   "id": "3837d30b-ce4c-49de-9e55-de1fa7fe5307",
   "metadata": {},
   "outputs": [
    {
     "data": {
      "text/plain": [
       "id            0\n",
       "model_year    0\n",
       "milage        0\n",
       "price         0\n",
       "dtype: int64"
      ]
     },
     "execution_count": 21,
     "metadata": {},
     "output_type": "execute_result"
    }
   ],
   "source": [
    "train.select_dtypes(\"number\").isna().sum()"
   ]
  },
  {
   "cell_type": "code",
   "execution_count": 16,
   "id": "5224401c-4a55-4adf-a87d-3a8304e14f68",
   "metadata": {},
   "outputs": [
    {
     "data": {
      "text/plain": [
       "['brand',\n",
       " 'model',\n",
       " 'fuel_type',\n",
       " 'engine',\n",
       " 'transmission',\n",
       " 'ext_col',\n",
       " 'int_col',\n",
       " 'accident',\n",
       " 'clean_title']"
      ]
     },
     "execution_count": 16,
     "metadata": {},
     "output_type": "execute_result"
    }
   ],
   "source": [
    "list(train.select_dtypes(\"object\"))"
   ]
  },
  {
   "cell_type": "code",
   "execution_count": 23,
   "id": "b5f897cb-5a4d-4059-92b8-1665f0d21d3d",
   "metadata": {},
   "outputs": [
    {
     "data": {
      "text/plain": [
       "brand               0\n",
       "model               0\n",
       "fuel_type        5083\n",
       "engine              0\n",
       "transmission        0\n",
       "ext_col             0\n",
       "int_col             0\n",
       "accident         2452\n",
       "clean_title     21419\n",
       "dtype: int64"
      ]
     },
     "execution_count": 23,
     "metadata": {},
     "output_type": "execute_result"
    }
   ],
   "source": [
    "train.select_dtypes(\"object\").isna().sum()"
   ]
  },
  {
   "cell_type": "code",
   "execution_count": 24,
   "id": "9be883e0-a154-493e-bb13-8c434ce70a02",
   "metadata": {},
   "outputs": [
    {
     "data": {
      "text/html": [
       "<div>\n",
       "<style scoped>\n",
       "    .dataframe tbody tr th:only-of-type {\n",
       "        vertical-align: middle;\n",
       "    }\n",
       "\n",
       "    .dataframe tbody tr th {\n",
       "        vertical-align: top;\n",
       "    }\n",
       "\n",
       "    .dataframe thead th {\n",
       "        text-align: right;\n",
       "    }\n",
       "</style>\n",
       "<table border=\"1\" class=\"dataframe\">\n",
       "  <thead>\n",
       "    <tr style=\"text-align: right;\">\n",
       "      <th>engine</th>\n",
       "      <th>1.2L I3 12V GDI DOHC Turbo</th>\n",
       "      <th>1.3L I3 12V GDI DOHC Turbo</th>\n",
       "      <th>1.3L I3 12V MPFI DOHC Turbo</th>\n",
       "      <th>1.4L I4 16V GDI DOHC Turbo</th>\n",
       "      <th>1.5 Liter Turbo</th>\n",
       "      <th>1.5L I3 12V GDI DOHC Turbo</th>\n",
       "      <th>1.5L I3 12V PDI DOHC Turbo</th>\n",
       "      <th>1.5L I4 16V GDI DOHC Turbo</th>\n",
       "      <th>1.6L I4 16V GDI DOHC</th>\n",
       "      <th>1.6L I4 16V GDI DOHC Hybrid</th>\n",
       "      <th>...</th>\n",
       "      <th>Dual Motor - Standard</th>\n",
       "      <th>Electric</th>\n",
       "      <th>Electric Motor Electric Fuel System</th>\n",
       "      <th>I4</th>\n",
       "      <th>Intercooled Turbo Diesel V-8 6.7 L/406</th>\n",
       "      <th>Intercooled Turbo Premium Unleaded I-4 2.0 L/122</th>\n",
       "      <th>Standard Range Battery</th>\n",
       "      <th>V6</th>\n",
       "      <th>V8</th>\n",
       "      <th>–</th>\n",
       "    </tr>\n",
       "    <tr>\n",
       "      <th>fuel_type</th>\n",
       "      <th></th>\n",
       "      <th></th>\n",
       "      <th></th>\n",
       "      <th></th>\n",
       "      <th></th>\n",
       "      <th></th>\n",
       "      <th></th>\n",
       "      <th></th>\n",
       "      <th></th>\n",
       "      <th></th>\n",
       "      <th></th>\n",
       "      <th></th>\n",
       "      <th></th>\n",
       "      <th></th>\n",
       "      <th></th>\n",
       "      <th></th>\n",
       "      <th></th>\n",
       "      <th></th>\n",
       "      <th></th>\n",
       "      <th></th>\n",
       "      <th></th>\n",
       "    </tr>\n",
       "  </thead>\n",
       "  <tbody>\n",
       "    <tr>\n",
       "      <th>Diesel</th>\n",
       "      <td>0</td>\n",
       "      <td>0</td>\n",
       "      <td>0</td>\n",
       "      <td>0</td>\n",
       "      <td>0</td>\n",
       "      <td>0</td>\n",
       "      <td>0</td>\n",
       "      <td>0</td>\n",
       "      <td>0</td>\n",
       "      <td>0</td>\n",
       "      <td>...</td>\n",
       "      <td>0</td>\n",
       "      <td>0</td>\n",
       "      <td>0</td>\n",
       "      <td>0</td>\n",
       "      <td>29</td>\n",
       "      <td>0</td>\n",
       "      <td>1</td>\n",
       "      <td>0</td>\n",
       "      <td>0</td>\n",
       "      <td>3</td>\n",
       "    </tr>\n",
       "    <tr>\n",
       "      <th>E85 Flex Fuel</th>\n",
       "      <td>0</td>\n",
       "      <td>0</td>\n",
       "      <td>0</td>\n",
       "      <td>0</td>\n",
       "      <td>0</td>\n",
       "      <td>0</td>\n",
       "      <td>0</td>\n",
       "      <td>0</td>\n",
       "      <td>0</td>\n",
       "      <td>0</td>\n",
       "      <td>...</td>\n",
       "      <td>0</td>\n",
       "      <td>0</td>\n",
       "      <td>0</td>\n",
       "      <td>0</td>\n",
       "      <td>0</td>\n",
       "      <td>0</td>\n",
       "      <td>0</td>\n",
       "      <td>0</td>\n",
       "      <td>0</td>\n",
       "      <td>0</td>\n",
       "    </tr>\n",
       "    <tr>\n",
       "      <th>Gasoline</th>\n",
       "      <td>25</td>\n",
       "      <td>59</td>\n",
       "      <td>8</td>\n",
       "      <td>11</td>\n",
       "      <td>6</td>\n",
       "      <td>37</td>\n",
       "      <td>125</td>\n",
       "      <td>78</td>\n",
       "      <td>4</td>\n",
       "      <td>1</td>\n",
       "      <td>...</td>\n",
       "      <td>21</td>\n",
       "      <td>41</td>\n",
       "      <td>31</td>\n",
       "      <td>54</td>\n",
       "      <td>3</td>\n",
       "      <td>40</td>\n",
       "      <td>10</td>\n",
       "      <td>105</td>\n",
       "      <td>26</td>\n",
       "      <td>150</td>\n",
       "    </tr>\n",
       "    <tr>\n",
       "      <th>Hybrid</th>\n",
       "      <td>0</td>\n",
       "      <td>0</td>\n",
       "      <td>0</td>\n",
       "      <td>0</td>\n",
       "      <td>0</td>\n",
       "      <td>0</td>\n",
       "      <td>0</td>\n",
       "      <td>0</td>\n",
       "      <td>0</td>\n",
       "      <td>9</td>\n",
       "      <td>...</td>\n",
       "      <td>4</td>\n",
       "      <td>9</td>\n",
       "      <td>1</td>\n",
       "      <td>5</td>\n",
       "      <td>0</td>\n",
       "      <td>0</td>\n",
       "      <td>1</td>\n",
       "      <td>3</td>\n",
       "      <td>1</td>\n",
       "      <td>0</td>\n",
       "    </tr>\n",
       "    <tr>\n",
       "      <th>Plug-In Hybrid</th>\n",
       "      <td>0</td>\n",
       "      <td>0</td>\n",
       "      <td>0</td>\n",
       "      <td>0</td>\n",
       "      <td>0</td>\n",
       "      <td>0</td>\n",
       "      <td>0</td>\n",
       "      <td>0</td>\n",
       "      <td>0</td>\n",
       "      <td>1</td>\n",
       "      <td>...</td>\n",
       "      <td>0</td>\n",
       "      <td>2</td>\n",
       "      <td>0</td>\n",
       "      <td>0</td>\n",
       "      <td>0</td>\n",
       "      <td>0</td>\n",
       "      <td>0</td>\n",
       "      <td>0</td>\n",
       "      <td>0</td>\n",
       "      <td>0</td>\n",
       "    </tr>\n",
       "    <tr>\n",
       "      <th>not supported</th>\n",
       "      <td>0</td>\n",
       "      <td>0</td>\n",
       "      <td>0</td>\n",
       "      <td>0</td>\n",
       "      <td>0</td>\n",
       "      <td>0</td>\n",
       "      <td>0</td>\n",
       "      <td>0</td>\n",
       "      <td>0</td>\n",
       "      <td>0</td>\n",
       "      <td>...</td>\n",
       "      <td>0</td>\n",
       "      <td>0</td>\n",
       "      <td>0</td>\n",
       "      <td>0</td>\n",
       "      <td>0</td>\n",
       "      <td>0</td>\n",
       "      <td>0</td>\n",
       "      <td>0</td>\n",
       "      <td>0</td>\n",
       "      <td>0</td>\n",
       "    </tr>\n",
       "    <tr>\n",
       "      <th>–</th>\n",
       "      <td>0</td>\n",
       "      <td>0</td>\n",
       "      <td>0</td>\n",
       "      <td>0</td>\n",
       "      <td>0</td>\n",
       "      <td>0</td>\n",
       "      <td>0</td>\n",
       "      <td>0</td>\n",
       "      <td>0</td>\n",
       "      <td>0</td>\n",
       "      <td>...</td>\n",
       "      <td>0</td>\n",
       "      <td>0</td>\n",
       "      <td>0</td>\n",
       "      <td>0</td>\n",
       "      <td>0</td>\n",
       "      <td>0</td>\n",
       "      <td>0</td>\n",
       "      <td>0</td>\n",
       "      <td>0</td>\n",
       "      <td>772</td>\n",
       "    </tr>\n",
       "  </tbody>\n",
       "</table>\n",
       "<p>7 rows × 1109 columns</p>\n",
       "</div>"
      ],
      "text/plain": [
       "engine          1.2L I3 12V GDI DOHC Turbo  1.3L I3 12V GDI DOHC Turbo  \\\n",
       "fuel_type                                                                \n",
       "Diesel                                   0                           0   \n",
       "E85 Flex Fuel                            0                           0   \n",
       "Gasoline                                25                          59   \n",
       "Hybrid                                   0                           0   \n",
       "Plug-In Hybrid                           0                           0   \n",
       "not supported                            0                           0   \n",
       "–                                        0                           0   \n",
       "\n",
       "engine          1.3L I3 12V MPFI DOHC Turbo  1.4L I4 16V GDI DOHC Turbo  \\\n",
       "fuel_type                                                                 \n",
       "Diesel                                    0                           0   \n",
       "E85 Flex Fuel                             0                           0   \n",
       "Gasoline                                  8                          11   \n",
       "Hybrid                                    0                           0   \n",
       "Plug-In Hybrid                            0                           0   \n",
       "not supported                             0                           0   \n",
       "–                                         0                           0   \n",
       "\n",
       "engine          1.5 Liter Turbo  1.5L I3 12V GDI DOHC Turbo  \\\n",
       "fuel_type                                                     \n",
       "Diesel                        0                           0   \n",
       "E85 Flex Fuel                 0                           0   \n",
       "Gasoline                      6                          37   \n",
       "Hybrid                        0                           0   \n",
       "Plug-In Hybrid                0                           0   \n",
       "not supported                 0                           0   \n",
       "–                             0                           0   \n",
       "\n",
       "engine          1.5L I3 12V PDI DOHC Turbo  1.5L I4 16V GDI DOHC Turbo  \\\n",
       "fuel_type                                                                \n",
       "Diesel                                   0                           0   \n",
       "E85 Flex Fuel                            0                           0   \n",
       "Gasoline                               125                          78   \n",
       "Hybrid                                   0                           0   \n",
       "Plug-In Hybrid                           0                           0   \n",
       "not supported                            0                           0   \n",
       "–                                        0                           0   \n",
       "\n",
       "engine          1.6L I4 16V GDI DOHC  1.6L I4 16V GDI DOHC Hybrid  ...  \\\n",
       "fuel_type                                                          ...   \n",
       "Diesel                             0                            0  ...   \n",
       "E85 Flex Fuel                      0                            0  ...   \n",
       "Gasoline                           4                            1  ...   \n",
       "Hybrid                             0                            9  ...   \n",
       "Plug-In Hybrid                     0                            1  ...   \n",
       "not supported                      0                            0  ...   \n",
       "–                                  0                            0  ...   \n",
       "\n",
       "engine          Dual Motor - Standard  Electric  \\\n",
       "fuel_type                                         \n",
       "Diesel                              0         0   \n",
       "E85 Flex Fuel                       0         0   \n",
       "Gasoline                           21        41   \n",
       "Hybrid                              4         9   \n",
       "Plug-In Hybrid                      0         2   \n",
       "not supported                       0         0   \n",
       "–                                   0         0   \n",
       "\n",
       "engine          Electric Motor Electric Fuel System  I4  \\\n",
       "fuel_type                                                 \n",
       "Diesel                                            0   0   \n",
       "E85 Flex Fuel                                     0   0   \n",
       "Gasoline                                         31  54   \n",
       "Hybrid                                            1   5   \n",
       "Plug-In Hybrid                                    0   0   \n",
       "not supported                                     0   0   \n",
       "–                                                 0   0   \n",
       "\n",
       "engine          Intercooled Turbo Diesel V-8 6.7 L/406  \\\n",
       "fuel_type                                                \n",
       "Diesel                                              29   \n",
       "E85 Flex Fuel                                        0   \n",
       "Gasoline                                             3   \n",
       "Hybrid                                               0   \n",
       "Plug-In Hybrid                                       0   \n",
       "not supported                                        0   \n",
       "–                                                    0   \n",
       "\n",
       "engine          Intercooled Turbo Premium Unleaded I-4 2.0 L/122  \\\n",
       "fuel_type                                                          \n",
       "Diesel                                                         0   \n",
       "E85 Flex Fuel                                                  0   \n",
       "Gasoline                                                      40   \n",
       "Hybrid                                                         0   \n",
       "Plug-In Hybrid                                                 0   \n",
       "not supported                                                  0   \n",
       "–                                                              0   \n",
       "\n",
       "engine          Standard Range Battery   V6  V8    –  \n",
       "fuel_type                                             \n",
       "Diesel                               1    0   0    3  \n",
       "E85 Flex Fuel                        0    0   0    0  \n",
       "Gasoline                            10  105  26  150  \n",
       "Hybrid                               1    3   1    0  \n",
       "Plug-In Hybrid                       0    0   0    0  \n",
       "not supported                        0    0   0    0  \n",
       "–                                    0    0   0  772  \n",
       "\n",
       "[7 rows x 1109 columns]"
      ]
     },
     "execution_count": 24,
     "metadata": {},
     "output_type": "execute_result"
    }
   ],
   "source": [
    "pd.crosstab(train[\"fuel_type\"], train[\"engine\"])"
   ]
  },
  {
   "cell_type": "code",
   "execution_count": 54,
   "id": "8e884594-fc94-49ce-b321-a949db895fe8",
   "metadata": {},
   "outputs": [
    {
     "data": {
      "text/plain": [
       "id              188533\n",
       "brand               57\n",
       "model             1897\n",
       "model_year          34\n",
       "milage            6651\n",
       "fuel_type            8\n",
       "engine            1117\n",
       "transmission        52\n",
       "ext_col            319\n",
       "int_col            156\n",
       "accident             2\n",
       "clean_title          1\n",
       "price             1569\n",
       "dtype: int64"
      ]
     },
     "execution_count": 54,
     "metadata": {},
     "output_type": "execute_result"
    }
   ],
   "source": [
    "train.nunique()"
   ]
  },
  {
   "cell_type": "markdown",
   "id": "a136f597-670c-49f7-a799-ff4d277f9382",
   "metadata": {},
   "source": [
    "### Loading and Preparing the Data\n",
    "\n",
    "Predictors:\n",
    "- brand\n",
    "- model\n",
    "- model_year\n",
    "- milage\n",
    "- fuel_type\n",
    "- engine\n",
    "- transmission\n",
    "- ext_color\n",
    "- int_col\n",
    "- accident\n",
    "- clean_title"
   ]
  },
  {
   "cell_type": "code",
   "execution_count": 77,
   "id": "7dcecff6-cce4-448d-9537-dd8f740f3ad2",
   "metadata": {},
   "outputs": [
    {
     "data": {
      "text/plain": [
       "brand\n",
       "Ford             23088\n",
       "Mercedes-Benz    19172\n",
       "BMW              17028\n",
       "Chevrolet        16335\n",
       "Audi             10887\n",
       "Name: count, dtype: int64"
      ]
     },
     "execution_count": 77,
     "metadata": {},
     "output_type": "execute_result"
    }
   ],
   "source": [
    "train.brand.value_counts().head()"
   ]
  },
  {
   "cell_type": "code",
   "execution_count": 78,
   "id": "be6a58cf-8382-414e-9336-7ecef435cd45",
   "metadata": {},
   "outputs": [],
   "source": [
    "# Applying feature engineering - one hot encoding\n",
    "train = pd.get_dummies(train, columns=['brand'])"
   ]
  },
  {
   "cell_type": "code",
   "execution_count": 79,
   "id": "4b4bc85f-a4e9-4fb9-89df-b9d697deef9a",
   "metadata": {},
   "outputs": [
    {
     "data": {
      "text/plain": [
       "Index(['id', 'model', 'model_year', 'milage', 'fuel_type', 'engine',\n",
       "       'transmission', 'ext_col', 'int_col', 'accident', 'clean_title',\n",
       "       'price', 'brand_Acura', 'brand_Alfa', 'brand_Aston', 'brand_Audi',\n",
       "       'brand_BMW', 'brand_Bentley', 'brand_Bugatti', 'brand_Buick',\n",
       "       'brand_Cadillac', 'brand_Chevrolet', 'brand_Chrysler', 'brand_Dodge',\n",
       "       'brand_FIAT', 'brand_Ferrari', 'brand_Ford', 'brand_GMC',\n",
       "       'brand_Genesis', 'brand_Honda', 'brand_Hummer', 'brand_Hyundai',\n",
       "       'brand_INFINITI', 'brand_Jaguar', 'brand_Jeep', 'brand_Karma',\n",
       "       'brand_Kia', 'brand_Lamborghini', 'brand_Land', 'brand_Lexus',\n",
       "       'brand_Lincoln', 'brand_Lotus', 'brand_Lucid', 'brand_MINI',\n",
       "       'brand_Maserati', 'brand_Maybach', 'brand_Mazda', 'brand_McLaren',\n",
       "       'brand_Mercedes-Benz', 'brand_Mercury', 'brand_Mitsubishi',\n",
       "       'brand_Nissan', 'brand_Plymouth', 'brand_Polestar', 'brand_Pontiac',\n",
       "       'brand_Porsche', 'brand_RAM', 'brand_Rivian', 'brand_Rolls-Royce',\n",
       "       'brand_Saab', 'brand_Saturn', 'brand_Scion', 'brand_Subaru',\n",
       "       'brand_Suzuki', 'brand_Tesla', 'brand_Toyota', 'brand_Volkswagen',\n",
       "       'brand_Volvo', 'brand_smart'],\n",
       "      dtype='object')"
      ]
     },
     "execution_count": 79,
     "metadata": {},
     "output_type": "execute_result"
    }
   ],
   "source": [
    "train.columns"
   ]
  },
  {
   "cell_type": "code",
   "execution_count": null,
   "id": "8abdc165-b88f-42eb-a0a3-4eebdc1939b3",
   "metadata": {},
   "outputs": [],
   "source": []
  },
  {
   "cell_type": "code",
   "execution_count": null,
   "id": "31731e0c-5ae0-4354-a119-0191851b1a8f",
   "metadata": {},
   "outputs": [],
   "source": [
    "def update_fuel_type(df):\n",
    "    df.loc[df['engine'].str.contains('Electric', case=False, na=False), 'fuel_type'] = 'Electric'\n",
    "    df.loc[df['engine'].str.contains('Gasoline', case=False, na=False), 'fuel_type'] = 'Gasoline'\n",
    "    df.loc[(df['brand'].str.lower() == 'tesla') & (df['engine'].str.contains('Dual Motor - Standard', case=False, na=False)), 'fuel_type'] = 'Electric'    \n",
    "    return df\n",
    "update_fuel_type(train)"
   ]
  },
  {
   "cell_type": "code",
   "execution_count": 51,
   "id": "14326e2d-0525-4964-978a-f29e96b7e2ee",
   "metadata": {},
   "outputs": [
    {
     "data": {
      "text/plain": [
       "fuel_type\n",
       "Gasoline          168743\n",
       "Electric            7566\n",
       "E85 Flex Fuel       5401\n",
       "Diesel              3935\n",
       "Hybrid              1900\n",
       "–                    774\n",
       "electric              98\n",
       "Plug-In Hybrid        24\n",
       "not supported          1\n",
       "Name: count, dtype: int64"
      ]
     },
     "execution_count": 51,
     "metadata": {},
     "output_type": "execute_result"
    }
   ],
   "source": [
    "train.fuel_type.value_counts()"
   ]
  },
  {
   "cell_type": "code",
   "execution_count": null,
   "id": "d70cc3fd-03d6-496f-8f3d-1c100c43bc57",
   "metadata": {},
   "outputs": [],
   "source": []
  },
  {
   "cell_type": "code",
   "execution_count": null,
   "id": "fb2ef940-d8b4-4da1-a2a0-1debed0077a9",
   "metadata": {},
   "outputs": [],
   "source": [
    "train = pd.get_dummies(train, columns=['brand','fuel_type',''])"
   ]
  },
  {
   "cell_type": "code",
   "execution_count": 50,
   "id": "107be7f7-9d2e-430c-8a7b-45bf58ecc96b",
   "metadata": {},
   "outputs": [
    {
     "data": {
      "text/plain": [
       "id              188533\n",
       "brand               57\n",
       "model             1897\n",
       "model_year          34\n",
       "milage            6651\n",
       "fuel_type            9\n",
       "engine            1117\n",
       "transmission        52\n",
       "ext_col            319\n",
       "int_col            156\n",
       "accident             2\n",
       "clean_title          1\n",
       "price             1569\n",
       "dtype: int64"
      ]
     },
     "execution_count": 50,
     "metadata": {},
     "output_type": "execute_result"
    }
   ],
   "source": [
    "train.nunique()"
   ]
  },
  {
   "cell_type": "code",
   "execution_count": 47,
   "id": "e5d25a61-6065-498b-92fe-507f6d391a4c",
   "metadata": {},
   "outputs": [
    {
     "data": {
      "text/plain": [
       "accident\n",
       "None reported                             144514\n",
       "At least 1 accident or damage reported     41567\n",
       "Name: count, dtype: int64"
      ]
     },
     "execution_count": 47,
     "metadata": {},
     "output_type": "execute_result"
    }
   ],
   "source": [
    "train.accident.value_counts()"
   ]
  },
  {
   "cell_type": "code",
   "execution_count": null,
   "id": "35558178-af76-4de0-b57b-0fe7897f4b48",
   "metadata": {},
   "outputs": [],
   "source": []
  },
  {
   "cell_type": "markdown",
   "id": "1d2c600d-129c-4278-881f-1ff79995ded2",
   "metadata": {},
   "source": [
    "### Train Test Split"
   ]
  },
  {
   "cell_type": "code",
   "execution_count": 26,
   "id": "355f9cef-0273-4365-a8f0-31177d195309",
   "metadata": {},
   "outputs": [
    {
     "data": {
      "text/html": [
       "<div>\n",
       "<style scoped>\n",
       "    .dataframe tbody tr th:only-of-type {\n",
       "        vertical-align: middle;\n",
       "    }\n",
       "\n",
       "    .dataframe tbody tr th {\n",
       "        vertical-align: top;\n",
       "    }\n",
       "\n",
       "    .dataframe thead th {\n",
       "        text-align: right;\n",
       "    }\n",
       "</style>\n",
       "<table border=\"1\" class=\"dataframe\">\n",
       "  <thead>\n",
       "    <tr style=\"text-align: right;\">\n",
       "      <th></th>\n",
       "      <th>id</th>\n",
       "      <th>brand</th>\n",
       "      <th>model</th>\n",
       "      <th>model_year</th>\n",
       "      <th>milage</th>\n",
       "      <th>fuel_type</th>\n",
       "      <th>engine</th>\n",
       "      <th>transmission</th>\n",
       "      <th>ext_col</th>\n",
       "      <th>int_col</th>\n",
       "      <th>accident</th>\n",
       "      <th>clean_title</th>\n",
       "      <th>price</th>\n",
       "    </tr>\n",
       "  </thead>\n",
       "  <tbody>\n",
       "    <tr>\n",
       "      <th>0</th>\n",
       "      <td>0</td>\n",
       "      <td>MINI</td>\n",
       "      <td>Cooper S Base</td>\n",
       "      <td>2007</td>\n",
       "      <td>213000</td>\n",
       "      <td>Gasoline</td>\n",
       "      <td>172.0HP 1.6L 4 Cylinder Engine Gasoline Fuel</td>\n",
       "      <td>A/T</td>\n",
       "      <td>Yellow</td>\n",
       "      <td>Gray</td>\n",
       "      <td>None reported</td>\n",
       "      <td>Yes</td>\n",
       "      <td>4200</td>\n",
       "    </tr>\n",
       "    <tr>\n",
       "      <th>1</th>\n",
       "      <td>1</td>\n",
       "      <td>Lincoln</td>\n",
       "      <td>LS V8</td>\n",
       "      <td>2002</td>\n",
       "      <td>143250</td>\n",
       "      <td>Gasoline</td>\n",
       "      <td>252.0HP 3.9L 8 Cylinder Engine Gasoline Fuel</td>\n",
       "      <td>A/T</td>\n",
       "      <td>Silver</td>\n",
       "      <td>Beige</td>\n",
       "      <td>At least 1 accident or damage reported</td>\n",
       "      <td>Yes</td>\n",
       "      <td>4999</td>\n",
       "    </tr>\n",
       "    <tr>\n",
       "      <th>2</th>\n",
       "      <td>2</td>\n",
       "      <td>Chevrolet</td>\n",
       "      <td>Silverado 2500 LT</td>\n",
       "      <td>2002</td>\n",
       "      <td>136731</td>\n",
       "      <td>E85 Flex Fuel</td>\n",
       "      <td>320.0HP 5.3L 8 Cylinder Engine Flex Fuel Capab...</td>\n",
       "      <td>A/T</td>\n",
       "      <td>Blue</td>\n",
       "      <td>Gray</td>\n",
       "      <td>None reported</td>\n",
       "      <td>Yes</td>\n",
       "      <td>13900</td>\n",
       "    </tr>\n",
       "    <tr>\n",
       "      <th>3</th>\n",
       "      <td>3</td>\n",
       "      <td>Genesis</td>\n",
       "      <td>G90 5.0 Ultimate</td>\n",
       "      <td>2017</td>\n",
       "      <td>19500</td>\n",
       "      <td>Gasoline</td>\n",
       "      <td>420.0HP 5.0L 8 Cylinder Engine Gasoline Fuel</td>\n",
       "      <td>Transmission w/Dual Shift Mode</td>\n",
       "      <td>Black</td>\n",
       "      <td>Black</td>\n",
       "      <td>None reported</td>\n",
       "      <td>Yes</td>\n",
       "      <td>45000</td>\n",
       "    </tr>\n",
       "    <tr>\n",
       "      <th>4</th>\n",
       "      <td>4</td>\n",
       "      <td>Mercedes-Benz</td>\n",
       "      <td>Metris Base</td>\n",
       "      <td>2021</td>\n",
       "      <td>7388</td>\n",
       "      <td>Gasoline</td>\n",
       "      <td>208.0HP 2.0L 4 Cylinder Engine Gasoline Fuel</td>\n",
       "      <td>7-Speed A/T</td>\n",
       "      <td>Black</td>\n",
       "      <td>Beige</td>\n",
       "      <td>None reported</td>\n",
       "      <td>Yes</td>\n",
       "      <td>97500</td>\n",
       "    </tr>\n",
       "  </tbody>\n",
       "</table>\n",
       "</div>"
      ],
      "text/plain": [
       "   id          brand              model  model_year  milage      fuel_type  \\\n",
       "0   0           MINI      Cooper S Base        2007  213000       Gasoline   \n",
       "1   1        Lincoln              LS V8        2002  143250       Gasoline   \n",
       "2   2      Chevrolet  Silverado 2500 LT        2002  136731  E85 Flex Fuel   \n",
       "3   3        Genesis   G90 5.0 Ultimate        2017   19500       Gasoline   \n",
       "4   4  Mercedes-Benz        Metris Base        2021    7388       Gasoline   \n",
       "\n",
       "                                              engine  \\\n",
       "0       172.0HP 1.6L 4 Cylinder Engine Gasoline Fuel   \n",
       "1       252.0HP 3.9L 8 Cylinder Engine Gasoline Fuel   \n",
       "2  320.0HP 5.3L 8 Cylinder Engine Flex Fuel Capab...   \n",
       "3       420.0HP 5.0L 8 Cylinder Engine Gasoline Fuel   \n",
       "4       208.0HP 2.0L 4 Cylinder Engine Gasoline Fuel   \n",
       "\n",
       "                     transmission ext_col int_col  \\\n",
       "0                             A/T  Yellow    Gray   \n",
       "1                             A/T  Silver   Beige   \n",
       "2                             A/T    Blue    Gray   \n",
       "3  Transmission w/Dual Shift Mode   Black   Black   \n",
       "4                     7-Speed A/T   Black   Beige   \n",
       "\n",
       "                                 accident clean_title  price  \n",
       "0                           None reported         Yes   4200  \n",
       "1  At least 1 accident or damage reported         Yes   4999  \n",
       "2                           None reported         Yes  13900  \n",
       "3                           None reported         Yes  45000  \n",
       "4                           None reported         Yes  97500  "
      ]
     },
     "execution_count": 26,
     "metadata": {},
     "output_type": "execute_result"
    }
   ],
   "source": [
    "train.head()"
   ]
  },
  {
   "cell_type": "code",
   "execution_count": 82,
   "id": "829ad07f-1dfb-4e3e-9ad1-b956690117b8",
   "metadata": {},
   "outputs": [],
   "source": [
    "x_train = train[['model_year', 'milage','brand_Ford','brand_Mercedes-Benz','brand_BMW','brand_Chevrolet','brand_Audi']]\n",
    "y_train = train[\"price\"]\n",
    "\n",
    "x_test = test[['model_year','milage']]"
   ]
  },
  {
   "cell_type": "markdown",
   "id": "6c3b1834-924d-45e9-90c5-46e3d21e0406",
   "metadata": {},
   "source": [
    "### Regression"
   ]
  },
  {
   "cell_type": "markdown",
   "id": "03c92b5b-88c5-4258-91a4-ffc64b4ccc58",
   "metadata": {},
   "source": [
    "Linear Regression Model"
   ]
  },
  {
   "cell_type": "code",
   "execution_count": 83,
   "id": "684aefa4-353f-4d2a-a155-43e71cae94a2",
   "metadata": {},
   "outputs": [],
   "source": [
    "lin_reg = LinearRegression()"
   ]
  },
  {
   "cell_type": "code",
   "execution_count": 84,
   "id": "259c72c1-7b47-46c7-aaa8-1cd0070e52d5",
   "metadata": {},
   "outputs": [
    {
     "data": {
      "text/plain": [
       "LinearRegression()"
      ]
     },
     "execution_count": 84,
     "metadata": {},
     "output_type": "execute_result"
    }
   ],
   "source": [
    "lin_reg.fit(x_train, y_train)"
   ]
  },
  {
   "cell_type": "markdown",
   "id": "b14dc49b-4503-41bb-af75-11d87cca7417",
   "metadata": {},
   "source": [
    "### Evaluation"
   ]
  },
  {
   "cell_type": "code",
   "execution_count": 85,
   "id": "df3e4532-bd12-43d3-aa08-cf08dffcc665",
   "metadata": {},
   "outputs": [
    {
     "name": "stdout",
     "output_type": "stream",
     "text": [
      "MAE 24031.477956752253\n",
      "RMSE 75431.81416101585\n",
      "R2 score 0.08410895503862437\n"
     ]
    }
   ],
   "source": [
    "pred = lin_reg.predict(x_train)\n",
    "\n",
    "print(\"MAE\", mean_absolute_error(pred, y_train))\n",
    "print(\"RMSE\", mean_squared_error(pred, y_train, squared=False))\n",
    "print(\"R2 score\", lin_reg.score(x_train, y_train))"
   ]
  },
  {
   "cell_type": "code",
   "execution_count": 87,
   "id": "bb4eb7d2-0746-4ff7-9524-291914988bce",
   "metadata": {},
   "outputs": [
    {
     "data": {
      "text/plain": [
       "{'model_year': 1089.4082081105862,\n",
       " 'milage': -0.36514513109448604,\n",
       " 'brand_Ford': -3321.429421655943,\n",
       " 'brand_Mercedes-Benz': 1644.915045887571,\n",
       " 'brand_BMW': -3148.769489461429,\n",
       " 'brand_Chevrolet': -1500.9421277693991,\n",
       " 'brand_Audi': -7407.41394184485}"
      ]
     },
     "execution_count": 87,
     "metadata": {},
     "output_type": "execute_result"
    }
   ],
   "source": [
    "lin_reg_coef = {feature : coef for feature, coef in zip(x_train.columns, lin_reg.coef_)}\n",
    "lin_reg_coef"
   ]
  },
  {
   "cell_type": "code",
   "execution_count": null,
   "id": "ed865c87-a863-4df5-9e00-69fa0f3c5da9",
   "metadata": {},
   "outputs": [],
   "source": []
  }
 ],
 "metadata": {
  "kernelspec": {
   "display_name": "Python 3",
   "language": "python",
   "name": "python3"
  },
  "language_info": {
   "codemirror_mode": {
    "name": "ipython",
    "version": 3
   },
   "file_extension": ".py",
   "mimetype": "text/x-python",
   "name": "python",
   "nbconvert_exporter": "python",
   "pygments_lexer": "ipython3",
   "version": "3.8.8"
  }
 },
 "nbformat": 4,
 "nbformat_minor": 5
}
